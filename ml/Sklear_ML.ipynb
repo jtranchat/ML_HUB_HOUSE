{
  "nbformat": 4,
  "nbformat_minor": 0,
  "metadata": {
    "colab": {
      "name": "Sklear_ML.ipynb",
      "provenance": [],
      "collapsed_sections": []
    },
    "kernelspec": {
      "display_name": "Python 3",
      "name": "python3"
    },
    "language_info": {
      "name": "python"
    }
  },
  "cells": [
    {
      "cell_type": "code",
      "metadata": {
        "id": "UYBd7Ia-UjAS"
      },
      "source": [
        "import pandas\n",
        "import numpy as np\n",
        "import sklearn\n",
        "from sklearn.model_selection import train_test_split\n",
        "import matplotlib.pyplot as plt\n",
        "from sklearn.neighbors import KNeighborsClassifier\n",
        "from sklearn.preprocessing import StandardScaler"
      ],
      "execution_count": 3,
      "outputs": []
    },
    {
      "cell_type": "code",
      "metadata": {
        "id": "DGOPREdYYZKq"
      },
      "source": [
        "# Data\n",
        "df = pandas.read_csv(\"kc_house_data.csv\")\n",
        "dataset = df.values"
      ],
      "execution_count": null,
      "outputs": []
    },
    {
      "cell_type": "code",
      "metadata": {
        "id": "u1Q7TruiYd-p"
      },
      "source": [
        "# Set les matrices X les features et Y notre target\n",
        "np.set_printoptions(suppress=True)  # prevent numpy exponential\n",
        "X_entrer = dataset[:, 1:5]\n",
        "#X_entrer = StandardScaler().fit_transform(X_entrer)\n",
        "#X_entrer = np.append(X_entrer, [[4, 3, 1960, 5000]], axis=0)"
      ],
      "execution_count": null,
      "outputs": []
    },
    {
      "cell_type": "code",
      "metadata": {
        "id": "OND5g-wRYiBk"
      },
      "source": [
        "# Récupération des valeurs que l'on cherche en décimal (pour l'output)\n",
        "xPredictionClear = np.split(X_entrer, [len(X_entrer) - 1])[1]\n",
        "\n",
        "Y_entrer = dataset[:, 0]\n",
        "#Y_entrer = Y_entrer.reshape(len(Y_entrer), 1)"
      ],
      "execution_count": null,
      "outputs": []
    },
    {
      "cell_type": "code",
      "metadata": {
        "id": "RCWxWdZFYkDJ"
      },
      "source": [
        "# On divise chaque entré par la valeur max des entrées\n",
        "#X_entrer = X_entrer / np.amax(X_entrer, axis=0)\n",
        "#Y = Y_entrer / np.amax(Y_entrer, axis=0)\n",
        "\n",
        "# X_scale = sc.fit_transform(X)\n",
        "\n",
        "\n",
        "# On récupère ce qu'il nous intéresse\n",
        "# Données sur lesquelles on va s'entrainer\n",
        "X = np.split(X_entrer, [len(X_entrer)-1])[0]\n",
        "# Valeur que l'on veut trouver\n",
        "xPrediction = np.split(X_entrer, [len(X_entrer)-1])[1]"
      ],
      "execution_count": null,
      "outputs": []
    },
    {
      "cell_type": "code",
      "metadata": {
        "id": "TKMNW_GDYQJG"
      },
      "source": [
        "from sklearn import linear_model\n",
        "from sklearn import svm\n",
        "\n",
        "# test des nombreux modèles linéaire\n",
        "# Prediction supervisé\n",
        "classifiers = [\n",
        "    svm.SVR(),\n",
        "    linear_model.SGDRegressor(),\n",
        "    linear_model.BayesianRidge(),\n",
        "    linear_model.LassoLars(),\n",
        "    linear_model.ARDRegression(),\n",
        "    linear_model.PassiveAggressiveRegressor(),\n",
        "    linear_model.TheilSenRegressor(),\n",
        "    linear_model.LinearRegression()]\n",
        "    \n",
        "for item in classifiers:\n",
        "    clf = item\n",
        "    clf.fit(X, Y)\n",
        "    clf.score(X, Y)\n",
        "    print('\\n', clf.predict(xPrediction))\n",
        "    resOut = clf.predict(xPrediction) * np.amax(Y_entrer, axis=0)\n",
        "    print(\"Sortie : \\n\" + str(resOut))\n",
        "    "
      ],
      "execution_count": null,
      "outputs": []
    },
    {
      "cell_type": "code",
      "metadata": {
        "id": "8dV8DAAjoKPk"
      },
      "source": [
        "# Analyse en Composante Principale\n",
        "from sklearn.cluster import KMeans\n",
        "from sklearn.decomposition import PCA"
      ],
      "execution_count": 1,
      "outputs": []
    },
    {
      "cell_type": "code",
      "metadata": {
        "id": "I0ZutI5ZYKlc"
      },
      "source": [
        "#instanciation\n",
        "sc = StandardScaler()\n",
        "acp = PCA(svd_solver='full')"
      ],
      "execution_count": 4,
      "outputs": []
    },
    {
      "cell_type": "code",
      "metadata": {
        "id": "jjEtEU9EYff5"
      },
      "source": [
        "#data\n",
        "data = pandas.read_csv(\"kc_house_data.csv\", usecols=[1,2,3,4])\n",
        "n = data.shape[0]\n",
        "p = data.shape[1]\n",
        "\n",
        "print(\"data : \\n\", data, \"\\n\")"
      ],
      "execution_count": null,
      "outputs": []
    },
    {
      "cell_type": "code",
      "metadata": {
        "id": "IEBlmsW2YlI6"
      },
      "source": [
        "#data centrer et réduites\n",
        "centerReducedData = sc.fit_transform(data)\n",
        "\n",
        "print(\"data centrer et réduites : \\n\", centerReducedData, \"\\n\")"
      ],
      "execution_count": null,
      "outputs": []
    },
    {
      "cell_type": "code",
      "metadata": {
        "id": "MPqWv4yub0FA"
      },
      "source": [
        "#calculs des coordonées factorielle\n",
        "coord = acp.fit_transform(centerReducedData)\n",
        "\n",
        "print('data coordonnées dactorielle: \\n',coord)"
      ],
      "execution_count": null,
      "outputs": []
    },
    {
      "cell_type": "code",
      "metadata": {
        "colab": {
          "base_uri": "https://localhost:8080/"
        },
        "id": "0z2mwtAKYwro",
        "outputId": "97859694-fa5f-42db-a741-17d66da6c29f"
      },
      "source": [
        "#variance expliquée\n",
        "variance = (n-1)/n*acp.explained_variance_\n",
        "print(\"varaince expliquée :\", variance, \"\\n\")\n",
        "\n",
        "#proportion de variance expliquée\n",
        "print(\"proportion de variance expliquée: \", acp.explained_variance_ratio_, \"\\n\")"
      ],
      "execution_count": null,
      "outputs": [
        {
          "output_type": "stream",
          "text": [
            "varaince expliquée : [2.47417099 0.88593285 0.4575239  0.18237226] \n",
            "\n",
            "proportion de variance expliquée: \n",
            " [0.61854275 0.22148321 0.11438097 0.04559307] \n",
            "\n"
          ],
          "name": "stdout"
        }
      ]
    },
    {
      "cell_type": "code",
      "metadata": {
        "colab": {
          "base_uri": "https://localhost:8080/"
        },
        "id": "JZp6jzEUb4k1",
        "outputId": "6150df2b-3259-4cd5-f792-3ad72242798c"
      },
      "source": [
        "#contributions aux axes\n",
        "#permettent de déterminer les individus qui pèsent le plus dans la définition de chaque facteur.\n",
        "print(\"contributions aux axes (permettent de déterminer les individus qui pèsent le plus dans la définition de chaque facteur)\")\n",
        "ctr = coord**2\n",
        "for j in range(p):\n",
        "   ctr[:,j] = ctr[:,j]/(n*variance[j])\n",
        "print(pandas.DataFrame({'CTR_1':ctr[:,0],'CTR_2':ctr[:,1]}), \"\\n\")\n",
        "print(np.sum(ctr,axis=0), \"\\n\")"
      ],
      "execution_count": null,
      "outputs": [
        {
          "output_type": "stream",
          "text": [
            "contributions aux axes (permettent de déterminer les individus qui pèsent le plus dans la définition de chaque facteur)\n",
            "    id     CTR_1     CTR_2\n",
            "0    0  0.012764  0.000040\n",
            "1    1  0.000149  0.000033\n",
            "2    2  0.025447  0.012727\n",
            "3    3  0.002916  0.009541\n",
            "4    4  0.001439  0.000130\n",
            "..  ..       ...       ...\n",
            "95  95  0.009426  0.003678\n",
            "96  96  0.000650  0.003315\n",
            "97  97  0.002764  0.005875\n",
            "98  98  0.000108  0.042429\n",
            "99  99  0.003794  0.029396\n",
            "\n",
            "[100 rows x 3 columns] \n",
            "\n",
            "[1. 1. 1. 1.] \n",
            "\n"
          ],
          "name": "stdout"
        }
      ]
    },
    {
      "cell_type": "code",
      "metadata": {
        "colab": {
          "base_uri": "https://localhost:8080/",
          "height": 283
        },
        "id": "DFPWJTc1dYOR",
        "outputId": "8a9f827d-60fe-4055-9398-709a630912e3"
      },
      "source": [
        "# 'Clustering' principaux facteurs\n",
        "kmeans = KMeans(n_clusters=3)\n",
        "kmeans.fit(ctr)\n",
        "plt.scatter(ctr[:,0], ctr[:,1], c=kmeans.predict(ctr))\n",
        "plt.scatter(kmeans.cluster_centers_[:,0], kmeans.cluster_centers_[:,1], c='r')"
      ],
      "execution_count": null,
      "outputs": [
        {
          "output_type": "execute_result",
          "data": {
            "text/plain": [
              "<matplotlib.collections.PathCollection at 0x7f68c9110710>"
            ]
          },
          "metadata": {
            "tags": []
          },
          "execution_count": 34
        },
        {
          "output_type": "display_data",
          "data": {
            "image/png": "[encoded data removed]",
            "text/plain": [
              "<Figure size 432x288 with 1 Axes>"
            ]
          },
          "metadata": {
            "tags": []
          }
        }
      ]
    },
    {
      "cell_type": "code",
      "metadata": {
        "id": "o0pDZHNycf1D"
      },
      "source": [
        "# 'Clustering' des bedrooms et bathrooms \n",
        "kmeans = KMeans(n_clusters=3)\n",
        "kmeans.fit(X_entrer)\n",
        "plt.scatter(X_entrer[:,0], X_entrer[:,1], c=kmeans.predict(X_entrer))\n",
        "plt.scatter(kmeans.cluster_centers_[:,0], kmeans.cluster_centers_[:,1], c='r')"
      ],
      "execution_count": null,
      "outputs": []
    },
    {
      "cell_type": "code",
      "metadata": {
        "colab": {
          "base_uri": "https://localhost:8080/",
          "height": 313
        },
        "id": "eMkZ41B_oG2j",
        "outputId": "de2c7d1a-9aba-4f1f-b4cb-59d355ca5c41"
      },
      "source": [
        "# 'Clustering' de la surface habitable et surface de terrain \n",
        "kmeans = KMeans(n_clusters=3)\n",
        "kmeans.fit(X_entrer)\n",
        "plt.scatter(X_entrer[:,2], X_entrer[:,3], c=kmeans.predict(X_entrer))\n",
        "plt.scatter(kmeans.cluster_centers_[:,0], kmeans.cluster_centers_[:,1], c='r')"
      ],
      "execution_count": null,
      "outputs": [
        {
          "output_type": "stream",
          "text": [
            "[0 0 0 ... 0 0 0]\n"
          ],
          "name": "stdout"
        },
        {
          "output_type": "execute_result",
          "data": {
            "text/plain": [
              "<matplotlib.collections.PathCollection at 0x7f1636621610>"
            ]
          },
          "metadata": {
            "tags": []
          },
          "execution_count": 77
        },
        {
          "output_type": "display_data",
          "data": {
            "image/png": "[encoded data removed]",
            "text/plain": [
              "<Figure size 432x288 with 1 Axes>"
            ]
          },
          "metadata": {
            "tags": []
          }
        }
      ]
    },
    {
      "cell_type": "code",
      "metadata": {
        "colab": {
          "base_uri": "https://localhost:8080/",
          "height": 294
        },
        "id": "imLRsydvRRJS",
        "outputId": "c6089988-8d9a-42fa-c9f9-fd5e9e4ffc6f"
      },
      "source": [
        "# Calcul de coûts (elbow methods)\n",
        "intertia = []\n",
        "k_range = range(1,15)\n",
        "for r in k_range:\n",
        "  model = KMeans(n_clusters=r).fit(X_entrer)\n",
        "  intertia.append(model.inertia_)\n",
        "\n",
        "plt.plot(k_range, intertia)"
      ],
      "execution_count": null,
      "outputs": [
        {
          "output_type": "execute_result",
          "data": {
            "text/plain": [
              "[<matplotlib.lines.Line2D at 0x7f163632f910>]"
            ]
          },
          "metadata": {
            "tags": []
          },
          "execution_count": 71
        },
        {
          "output_type": "display_data",
          "data": {
            "image/png": "[encoded data removed]",
            "text/plain": [
              "<Figure size 432x288 with 1 Axes>"
            ]
          },
          "metadata": {
            "tags": []
          }
        }
      ]
    }
  ]
}